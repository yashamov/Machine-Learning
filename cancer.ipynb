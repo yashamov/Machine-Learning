{
 "cells": [
  {
   "cell_type": "code",
   "execution_count": 1,
   "id": "92a78c11",
   "metadata": {},
   "outputs": [],
   "source": [
    "from sklearn.datasets import load_breast_cancer\n",
    "\n",
    "from sklearn.metrics import precision_score, recall_score, fbeta_score, accuracy_score, average_precision_score, log_loss\n",
    "from sklearn.metrics import mean_squared_error, mean_absolute_error, mean_squared_log_error\n",
    "from sklearn.tree import DecisionTreeClassifier\n",
    "from sklearn.model_selection import train_test_split, GridSearchCV\n",
    "from sklearn.tree import DecisionTreeRegressor\n",
    "\n",
    "from sklearn.datasets import make_classification\n",
    "from sklearn.datasets import make_regression\n",
    "import numpy as np"
   ]
  },
  {
   "cell_type": "code",
   "execution_count": 2,
   "id": "e90b025d",
   "metadata": {},
   "outputs": [],
   "source": [
    "# Сетка гиперпараметров для перебора\n",
    "param_grid = {'max_depth': [1, 2, 3, 4, 5]}"
   ]
  },
  {
   "cell_type": "markdown",
   "id": "0e442537",
   "metadata": {},
   "source": [
    "### Классификация"
   ]
  },
  {
   "cell_type": "code",
   "execution_count": 3,
   "id": "5b29d5b7",
   "metadata": {},
   "outputs": [],
   "source": [
    "cancer = load_breast_cancer()\n",
    "X = cancer.data\n",
    "y = cancer.target\n",
    "\n",
    "X_train, X_test, y_train, y_test = train_test_split(X, y, test_size=0.2, random_state=42)"
   ]
  },
  {
   "cell_type": "code",
   "execution_count": 4,
   "id": "6673f371",
   "metadata": {},
   "outputs": [],
   "source": [
    "# Обучение\n",
    "clf = DecisionTreeClassifier()\n",
    "clf.fit(X_train, y_train)\n",
    "\n",
    "# Предикт\n",
    "y_pred = clf.predict(X_test)\n"
   ]
  },
  {
   "cell_type": "code",
   "execution_count": 5,
   "id": "afba1b92",
   "metadata": {},
   "outputs": [],
   "source": [
    "# Расчёт метрик\n",
    "precision = precision_score(y_test, y_pred, average='macro')\n",
    "recall = recall_score(y_test, y_pred, average='macro')\n",
    "fbeta = fbeta_score(y_test, y_pred, beta=0.5, average='macro')\n",
    "accuracy = accuracy_score(y_test, y_pred)\n",
    "ap = average_precision_score(y_test, y_pred, average='macro')\n",
    "cross_entropy = log_loss(y_test, y_pred)"
   ]
  },
  {
   "cell_type": "code",
   "execution_count": 6,
   "id": "66dc57a1",
   "metadata": {},
   "outputs": [
    {
     "name": "stdout",
     "output_type": "stream",
     "text": [
      "Precision: 0.9439895185063871\n",
      "Recall: 0.9439895185063871\n",
      "F-beta: 0.9439895185063871\n",
      "Accuracy: 0.9473684210526315\n",
      "Average Precision: 0.9435941072677727\n",
      "Cross-entropy: 1.8178513786118837\n"
     ]
    }
   ],
   "source": [
    "print(f'Precision: {precision}')\n",
    "print(f'Recall: {recall}')\n",
    "print(f'F-beta: {fbeta}')\n",
    "print(f'Accuracy: {accuracy}')\n",
    "print(f'Average Precision: {ap}')\n",
    "print(f'Cross-entropy: {cross_entropy}')"
   ]
  },
  {
   "cell_type": "markdown",
   "id": "f8f28777",
   "metadata": {},
   "source": [
    "Теперь 10 штук"
   ]
  },
  {
   "cell_type": "code",
   "execution_count": 7,
   "id": "18ce8d05",
   "metadata": {},
   "outputs": [],
   "source": [
    "# Генерация датасетов для классификации\n",
    "datasets = []\n",
    "for _ in range(10):\n",
    "    X, y = make_classification(n_samples=1000, n_features=20, n_classes=2, random_state=_)\n",
    "    datasets.append((X, y))\n"
   ]
  },
  {
   "cell_type": "code",
   "execution_count": 8,
   "id": "92756701",
   "metadata": {},
   "outputs": [
    {
     "name": "stdout",
     "output_type": "stream",
     "text": [
      "Metrics for dataset 1:\n",
      "Precision: 0.9299999999999999\n",
      "Recall: 0.930172068827531\n",
      "F-beta: 0.9299748795980735\n",
      "Accuracy: 0.93\n",
      "Average Precision: 0.9062745098039215\n",
      "Cross-entropy: 2.417738335566654\n",
      "------------------------------\n",
      "Metrics for dataset 2:\n",
      "Precision: 0.839421918908069\n",
      "Recall: 0.839421918908069\n",
      "F-beta: 0.839421918908069\n",
      "Accuracy: 0.84\n",
      "Average Precision: 0.7685468537799909\n",
      "Cross-entropy: 5.526268190980126\n",
      "------------------------------\n",
      "Metrics for dataset 3:\n",
      "Precision: 0.868431855500821\n",
      "Recall: 0.8598997493734335\n",
      "F-beta: 0.8604914834150714\n",
      "Accuracy: 0.855\n",
      "Average Precision: 0.8506235827664398\n",
      "Cross-entropy: 5.0081385692106535\n",
      "------------------------------\n",
      "Metrics for dataset 4:\n",
      "Precision: 0.9330357142857143\n",
      "Recall: 0.9271844660194175\n",
      "F-beta: 0.9284706119568504\n",
      "Accuracy: 0.925\n",
      "Average Precision: 0.8660714285714286\n",
      "Cross-entropy: 2.5904681994255667\n",
      "------------------------------\n",
      "Metrics for dataset 5:\n",
      "Precision: 0.8565208687819037\n",
      "Recall: 0.8584943639291465\n",
      "F-beta: 0.8552547363031233\n",
      "Accuracy: 0.855\n",
      "Average Precision: 0.7719945124525116\n",
      "Cross-entropy: 5.008202537005069\n",
      "------------------------------\n",
      "Metrics for dataset 6:\n",
      "Precision: 0.9168044646548161\n",
      "Recall: 0.9102329366290307\n",
      "F-beta: 0.9150962825661622\n",
      "Accuracy: 0.915\n",
      "Average Precision: 0.8886320683965803\n",
      "Cross-entropy: 2.9358399714260695\n",
      "------------------------------\n",
      "Metrics for dataset 7:\n",
      "Precision: 0.9005104594134721\n",
      "Recall: 0.9001900190019002\n",
      "F-beta: 0.9002157044009302\n",
      "Accuracy: 0.9\n",
      "Average Precision: 0.8521015985093656\n",
      "Cross-entropy: 3.45392561533688\n",
      "------------------------------\n",
      "Metrics for dataset 8:\n",
      "Precision: 0.8999899989999001\n",
      "Recall: 0.8999899989999001\n",
      "F-beta: 0.8999899989999\n",
      "Accuracy: 0.9\n",
      "Average Precision: 0.8617831585138713\n",
      "Cross-entropy: 3.4539176193625787\n",
      "------------------------------\n",
      "Metrics for dataset 9:\n",
      "Precision: 0.875\n",
      "Recall: 0.8814464449191333\n",
      "F-beta: 0.8739007569116723\n",
      "Accuracy: 0.875\n",
      "Average Precision: 0.8769469026548672\n",
      "Cross-entropy: 4.317371037286742\n",
      "------------------------------\n",
      "Metrics for dataset 10:\n",
      "Precision: 0.8076298701298701\n",
      "Recall: 0.8034731258132319\n",
      "F-beta: 0.805732844514327\n",
      "Accuracy: 0.805\n",
      "Average Precision: 0.7442970946579194\n",
      "Cross-entropy: 6.735121366814848\n",
      "------------------------------\n"
     ]
    }
   ],
   "source": [
    "# Обучение и оценка дерева каждого датасета\n",
    "for i, (X, y) in enumerate(datasets):\n",
    "    # пропорции 60-20-20\n",
    "    X_train, X_temp, y_train, y_temp = train_test_split(X, y, test_size=0.4, random_state=42)\n",
    "    X_val, X_test, y_val, y_test = train_test_split(X_temp, y_temp, test_size=0.5, random_state=42)\n",
    "\n",
    "    clf = DecisionTreeClassifier()\n",
    "    #clf.fit(X_train, y_train)\n",
    "\n",
    "    # Поиск по сетке с кросс-валидацией\n",
    "    grid_search = GridSearchCV(clf, param_grid, cv=5)\n",
    "    grid_search.fit(X_val, y_val)\n",
    "\n",
    "    # Получение наилучшего гиперпараметра\n",
    "    best_max_depth = grid_search.best_params_['max_depth']\n",
    "\n",
    "    # Обучение модели с наилучшим параметром на обучающей + валидационной выборках\n",
    "    best_clf = DecisionTreeClassifier(max_depth=best_max_depth)\n",
    "    best_clf.fit(X_train, y_train)\n",
    "    \n",
    "    \n",
    "    y_pred = best_clf.predict(X_test)\n",
    "    \n",
    "    precision = precision_score(y_test, y_pred, average='macro')\n",
    "    recall = recall_score(y_test, y_pred, average='macro')\n",
    "    fbeta = fbeta_score(y_test, y_pred, beta=0.5, average='macro')\n",
    "    accuracy = accuracy_score(y_test, y_pred)\n",
    "    ap = average_precision_score(y_test, y_pred, average='macro')\n",
    "    cross_entropy = log_loss(y_test, y_pred)\n",
    "\n",
    "    print(f\"Metrics for dataset {i+1}:\")\n",
    "    print(f'Precision: {precision}')\n",
    "    print(f'Recall: {recall}')\n",
    "    print(f'F-beta: {fbeta}')\n",
    "    print(f'Accuracy: {accuracy}')\n",
    "    print(f'Average Precision: {ap}')\n",
    "    print(f'Cross-entropy: {cross_entropy}')\n",
    "    print(\"-\" * 30)"
   ]
  },
  {
   "cell_type": "markdown",
   "id": "9b270eec",
   "metadata": {},
   "source": [
    "### Регрессия\n"
   ]
  },
  {
   "cell_type": "code",
   "execution_count": 9,
   "id": "248efc24",
   "metadata": {},
   "outputs": [],
   "source": [
    "cancer = load_breast_cancer()\n",
    "X = cancer.data\n",
    "y = cancer.target\n",
    "\n",
    "X_train_reg, X_test_reg, y_train_reg, y_test_reg = train_test_split(X, y, test_size=0.2, random_state=42)"
   ]
  },
  {
   "cell_type": "code",
   "execution_count": 10,
   "id": "3ee1687a",
   "metadata": {},
   "outputs": [],
   "source": [
    "# Обучение\n",
    "reg = DecisionTreeRegressor()\n",
    "reg.fit(X_train_reg, y_train_reg)\n",
    "\n",
    "# Предикт\n",
    "y_pred_reg = reg.predict(X_test_reg)\n"
   ]
  },
  {
   "cell_type": "code",
   "execution_count": 11,
   "id": "24b6e7ed",
   "metadata": {},
   "outputs": [],
   "source": [
    "#функция для Quantile standart error\n",
    "def quantile_standard_error(y_test_reg, y_pred_reg, q):\n",
    "    errors = y_test_reg - y_pred_reg\n",
    "    qse = np.maximum(q * errors, (q - 1) * errors)\n",
    "    return np.mean(qse)"
   ]
  },
  {
   "cell_type": "code",
   "execution_count": 12,
   "id": "6c16e11d",
   "metadata": {},
   "outputs": [],
   "source": [
    "q = 0.95 # берём 95 перцентиль"
   ]
  },
  {
   "cell_type": "code",
   "execution_count": 13,
   "id": "0f625b79",
   "metadata": {},
   "outputs": [],
   "source": [
    "# Расчёт метрик\n",
    "mse = mean_squared_error(y_test_reg, y_pred_reg)\n",
    "mae = mean_absolute_error(y_test_reg, y_pred_reg)\n",
    "msle = mean_squared_log_error(y_test_reg, y_pred_reg)\n",
    "qse = quantile_standard_error(y_test_reg, y_pred_reg, q)"
   ]
  },
  {
   "cell_type": "code",
   "execution_count": 14,
   "id": "6d6be384",
   "metadata": {
    "scrolled": true
   },
   "outputs": [
    {
     "name": "stdout",
     "output_type": "stream",
     "text": [
      "Mean Squared Error (MSE): 0.06140350877192982\n",
      "Mean Absolute Error (MAE): 0.06140350877192982\n",
      "Mean Squared Log Error (MSLE): 0.0295015008546264\n",
      "Quantile Standard Error (QSE) for 0.95-quantile: 0.03464912280701755\n"
     ]
    }
   ],
   "source": [
    "print(f'Mean Squared Error (MSE): {mse}')\n",
    "print(f'Mean Absolute Error (MAE): {mae}')\n",
    "print(f'Mean Squared Log Error (MSLE): {msle}')\n",
    "print(f\"Quantile Standard Error (QSE) for {q}-quantile: {qse}\")"
   ]
  },
  {
   "cell_type": "markdown",
   "id": "dc4859fd",
   "metadata": {},
   "source": [
    "Теперь 10 штук"
   ]
  },
  {
   "cell_type": "code",
   "execution_count": null,
   "id": "7ad19730",
   "metadata": {},
   "outputs": [],
   "source": []
  },
  {
   "cell_type": "code",
   "execution_count": 15,
   "id": "9c569b03",
   "metadata": {},
   "outputs": [],
   "source": [
    "# Генерация регрессионных датасетов\n",
    "reg_datasets = []\n",
    "for _ in range(10):\n",
    "    X_reg, y_reg = make_regression(n_samples=1000, n_features=10, noise=0.1, random_state=_)\n",
    "    y_reg = abs(y_reg)\n",
    "    reg_datasets.append((X_reg, y_reg))"
   ]
  },
  {
   "cell_type": "code",
   "execution_count": 16,
   "id": "c4d2e150",
   "metadata": {},
   "outputs": [
    {
     "name": "stdout",
     "output_type": "stream",
     "text": [
      "Metrics for regression dataset 1:\n",
      "Mean Squared Error (MSE): 7226.202502727297\n",
      "Mean Absolute Error (MAE): 68.34735064872149\n",
      "Mean Squared Log Error (MSLE): 1.3187687906850363\n",
      "Quantile Standard Error (QSE) for 0.95-quantile: 30.69657219269441\n",
      "------------------------------\n",
      "Metrics for regression dataset 2:\n",
      "Mean Squared Error (MSE): 10302.334815220744\n",
      "Mean Absolute Error (MAE): 81.73662543975887\n",
      "Mean Squared Log Error (MSLE): 0.9463243793894369\n",
      "Quantile Standard Error (QSE) for 0.95-quantile: 43.23963143866975\n",
      "------------------------------\n",
      "Metrics for regression dataset 3:\n",
      "Mean Squared Error (MSE): 7029.262269162499\n",
      "Mean Absolute Error (MAE): 67.97721014684325\n",
      "Mean Squared Log Error (MSLE): 1.2568225003524747\n",
      "Quantile Standard Error (QSE) for 0.95-quantile: 35.76875653144484\n",
      "------------------------------\n",
      "Metrics for regression dataset 4:\n",
      "Mean Squared Error (MSE): 8299.017103073173\n",
      "Mean Absolute Error (MAE): 71.90596167114046\n",
      "Mean Squared Log Error (MSLE): 1.2541559405922924\n",
      "Quantile Standard Error (QSE) for 0.95-quantile: 34.98336553778094\n",
      "------------------------------\n",
      "Metrics for regression dataset 5:\n",
      "Mean Squared Error (MSE): 8075.592437988869\n",
      "Mean Absolute Error (MAE): 70.82805656982187\n",
      "Mean Squared Log Error (MSLE): 1.2651965124086133\n",
      "Quantile Standard Error (QSE) for 0.95-quantile: 33.19003605034759\n",
      "------------------------------\n",
      "Metrics for regression dataset 6:\n",
      "Mean Squared Error (MSE): 8809.23295156216\n",
      "Mean Absolute Error (MAE): 73.41059317768355\n",
      "Mean Squared Log Error (MSLE): 1.0870681189237568\n",
      "Quantile Standard Error (QSE) for 0.95-quantile: 39.07394177288671\n",
      "------------------------------\n",
      "Metrics for regression dataset 7:\n",
      "Mean Squared Error (MSE): 14948.173619282914\n",
      "Mean Absolute Error (MAE): 99.45443961208898\n",
      "Mean Squared Log Error (MSLE): 1.2745399775830322\n",
      "Quantile Standard Error (QSE) for 0.95-quantile: 47.547310022953155\n",
      "------------------------------\n",
      "Metrics for regression dataset 8:\n",
      "Mean Squared Error (MSE): 13878.005287050022\n",
      "Mean Absolute Error (MAE): 97.34969331272147\n",
      "Mean Squared Log Error (MSLE): 1.0748303183881818\n",
      "Quantile Standard Error (QSE) for 0.95-quantile: 52.3540799147707\n",
      "------------------------------\n",
      "Metrics for regression dataset 9:\n",
      "Mean Squared Error (MSE): 10079.738776197446\n",
      "Mean Absolute Error (MAE): 79.0659700468652\n",
      "Mean Squared Log Error (MSLE): 1.3929225846415263\n",
      "Quantile Standard Error (QSE) for 0.95-quantile: 37.40506468890644\n",
      "------------------------------\n",
      "Metrics for regression dataset 10:\n",
      "Mean Squared Error (MSE): 12056.297443198297\n",
      "Mean Absolute Error (MAE): 83.31818424259633\n",
      "Mean Squared Log Error (MSLE): 1.122562245725745\n",
      "Quantile Standard Error (QSE) for 0.95-quantile: 39.0589970890223\n",
      "------------------------------\n"
     ]
    }
   ],
   "source": [
    "# Обучение и оценка каждого датасета\n",
    "for i, (X_reg, y_reg) in enumerate(reg_datasets):\n",
    "    # пропорции 60-20-20\n",
    "    X_train_reg, X_temp_reg, y_train_reg, y_temp_reg = train_test_split(X_reg, y_reg, test_size=0.4, random_state=42)\n",
    "    X_val_reg, X_test_reg, y_val_reg, y_test_reg = train_test_split(X_temp_reg, y_temp_reg, test_size=0.5, random_state=42)\n",
    "\n",
    "    \n",
    "    reg = DecisionTreeRegressor()\n",
    "    #reg.fit(X_train_reg, y_train_reg)\n",
    "    \n",
    "\n",
    "    # Поиск по сетке с кросс-валидацией\n",
    "    grid_search = GridSearchCV(reg, param_grid, cv=5)\n",
    "    grid_search.fit(X_val_reg, y_val_reg)\n",
    "\n",
    "    # Получение наилучшего гиперпараметра\n",
    "    best_max_depth = grid_search.best_params_['max_depth']\n",
    "\n",
    "    # Обучение модели с наилучшим параметром на обучающей + валидационной выборках\n",
    "    best_reg = DecisionTreeRegressor(max_depth=best_max_depth)\n",
    "    best_reg.fit(X_train_reg, y_train_reg)\n",
    "    \n",
    "\n",
    "    y_pred_reg = best_reg.predict(X_test_reg)\n",
    "\n",
    "    mse = mean_squared_error(y_test_reg, y_pred_reg)\n",
    "    mae = mean_absolute_error(y_test_reg, y_pred_reg)\n",
    "    msle = mean_squared_log_error(y_test_reg, y_pred_reg)\n",
    "    qse = quantile_standard_error(y_test_reg, y_pred_reg, q)\n",
    "\n",
    "    print(f\"Metrics for regression dataset {i+1}:\")\n",
    "    print(f\"Mean Squared Error (MSE): {mse}\")\n",
    "    print(f\"Mean Absolute Error (MAE): {mae}\")\n",
    "    print(f\"Mean Squared Log Error (MSLE): {msle}\")\n",
    "    print(f\"Quantile Standard Error (QSE) for {q}-quantile: {qse}\")\n",
    "    print(\"-\" * 30)"
   ]
  },
  {
   "cell_type": "code",
   "execution_count": null,
   "id": "946d5355",
   "metadata": {},
   "outputs": [],
   "source": []
  }
 ],
 "metadata": {
  "kernelspec": {
   "display_name": "Python 3 (ipykernel)",
   "language": "python",
   "name": "python3"
  },
  "language_info": {
   "codemirror_mode": {
    "name": "ipython",
    "version": 3
   },
   "file_extension": ".py",
   "mimetype": "text/x-python",
   "name": "python",
   "nbconvert_exporter": "python",
   "pygments_lexer": "ipython3",
   "version": "3.8.10"
  }
 },
 "nbformat": 4,
 "nbformat_minor": 5
}
